{
  "cells": [
    {
      "cell_type": "code",
      "execution_count": null,
      "metadata": {
        "colab": {
          "base_uri": "https://localhost:8080/",
          "height": 339
        },
        "id": "cZ-fbyo7Gx4I",
        "outputId": "42bde039-7ae8-4c0f-c879-3e34db4e60ff"
      },
      "outputs": [],
      "source": [
        "from main import main, get_args_parser\n",
        "\n",
        "args_parser = get_args_parser()"
      ]
    },
    {
      "cell_type": "code",
      "execution_count": null,
      "metadata": {
        "id": "Qb9YnkRVG3Pq"
      },
      "outputs": [],
      "source": [
        "args = args_parser.parse_args([\n",
        "                               '--dataset_size', '0.001', \n",
        "                               '--device', 'cpu', \n",
        "                               '--train_trans_from_epoch', '0',\n",
        "                               '--transformer_lr', '1e-5',\n",
        "                               '--beta', '0.8',\n",
        "                               '--start_epoch', '0',\n",
        "                               '--focal_loss_gamma', '2',\n",
        "                               '--losses', \"labels\", \"boxes\", \"cardinality\",\n",
        "                               '--glob_attn_words', 'True',\n",
        "                               '--test',\n",
        "                               '--hidden_dim', '2048',\n",
        "                               '--frozen_weights', './checkpoint.pth'\n",
        "                               ])"
      ]
    },
    {
      "cell_type": "code",
      "execution_count": null,
      "metadata": {
        "id": "JuycYo83G8a6"
      },
      "outputs": [],
      "source": [
        "main(args)"
      ]
    }
  ],
  "metadata": {
    "accelerator": "GPU",
    "colab": {
      "collapsed_sections": [],
      "provenance": []
    },
    "kernelspec": {
      "display_name": "Python 3.8.5 ('masterAI')",
      "language": "python",
      "name": "python3"
    },
    "language_info": {
      "name": "python",
      "version": "3.8.5"
    },
    "vscode": {
      "interpreter": {
        "hash": "ab81a77bbd99791b442b66d5911adf60087a90079f5aff673de360844339db9f"
      }
    }
  },
  "nbformat": 4,
  "nbformat_minor": 0
}
