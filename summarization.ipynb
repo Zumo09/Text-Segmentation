{
 "cells": [
  {
   "cell_type": "code",
   "execution_count": 1,
   "metadata": {},
   "outputs": [],
   "source": [
    "%load_ext autoreload\n",
    "%autoreload 2"
   ]
  },
  {
   "cell_type": "markdown",
   "metadata": {},
   "source": [
    "# Text Summarizer"
   ]
  },
  {
   "cell_type": "code",
   "execution_count": 2,
   "metadata": {},
   "outputs": [
    {
     "name": "stderr",
     "output_type": "stream",
     "text": [
      "c:\\Users\\Zumo\\anaconda3\\envs\\torch-gpu\\lib\\site-packages\\numpy\\_distributor_init.py:30: UserWarning: loaded more than 1 DLL from .libs:\n",
      "c:\\Users\\Zumo\\anaconda3\\envs\\torch-gpu\\lib\\site-packages\\numpy\\.libs\\libopenblas.EL2C6PLE4ZYW3ECEVIV3OXXGRN2NRFM2.gfortran-win_amd64.dll\n",
      "c:\\Users\\Zumo\\anaconda3\\envs\\torch-gpu\\lib\\site-packages\\numpy\\.libs\\libopenblas.FB5AE2TYXYH2IJRDKGDGQ3XBKLKTF43H.gfortran-win_amd64.dll\n",
      "  warnings.warn(\"loaded more than 1 DLL from .libs:\"\n"
     ]
    }
   ],
   "source": [
    "import re\n",
    "from sentence_transformers import SentenceTransformer\n",
    "from summary.pacsum_extractor import PacSumExtractor, HParams\n",
    "from summary.detr_extractor import DETRExtractor, ArgType\n",
    "from summary import utils\n",
    "from datasets.processing_funcs import PIPELINE\n",
    "from datasets.fbp_dataset import load_only_texts, FBPSummaryDataset\n",
    "\n",
    "from types import SimpleNamespace\n",
    "import torch\n",
    "import numpy as np\n",
    "\n",
    "sentence_separators = re.compile(\"[.?!]\")\n",
    "\n",
    "utils.pd.options.display.float_format = \"{:.3f}\".format"
   ]
  },
  {
   "cell_type": "code",
   "execution_count": 3,
   "metadata": {},
   "outputs": [],
   "source": [
    "def tuning_metric(df):\n",
    "    return df[\"mean\"][\"f\"]"
   ]
  },
  {
   "cell_type": "code",
   "execution_count": 4,
   "metadata": {},
   "outputs": [
    {
     "name": "stderr",
     "output_type": "stream",
     "text": [
      "Loading Dataset: 100%|██████████| 10/10 [00:00<00:00, 1999.67it/s]\n",
      "Loading Dataset: 100%|██████████| 10/10 [00:00<00:00, 2494.53it/s]\n"
     ]
    }
   ],
   "source": [
    "texts = load_only_texts(\"./input/feedback-prize-2021/summary/original/\", PIPELINE, 1)\n",
    "sums = load_only_texts(\"./input/feedback-prize-2021/summary/references/\", PIPELINE, 1)\n",
    "dataset = FBPSummaryDataset(texts, sums)\n"
   ]
  },
  {
   "cell_type": "markdown",
   "metadata": {},
   "source": [
    "# PACSUM"
   ]
  },
  {
   "cell_type": "code",
   "execution_count": 5,
   "metadata": {},
   "outputs": [],
   "source": [
    "pacsum = PacSumExtractor(\n",
    "    sentence_transformer=SentenceTransformer(\"all-mpnet-base-v2\"),\n",
    "    extract_num=3,\n",
    ")\n"
   ]
  },
  {
   "cell_type": "code",
   "execution_count": 6,
   "metadata": {},
   "outputs": [
    {
     "name": "stderr",
     "output_type": "stream",
     "text": [
      "100%|██████████| 10/10 [00:02<00:00,  3.65it/s]\n"
     ]
    },
    {
     "name": "stdout",
     "output_type": "stream",
     "text": [
      "Best: 0.485 - HParams(beta=0.00, lambda1=0.00, lambda2=1.00)\n",
      "Best: 0.485 - HParams(beta=0.00, lambda1=0.11, lambda2=0.89)\n",
      "Best: 0.521 - HParams(beta=0.00, lambda1=0.44, lambda2=0.56)\n",
      "Best: 0.525 - HParams(beta=0.00, lambda1=0.78, lambda2=0.22)\n",
      "Best: 0.560 - HParams(beta=0.11, lambda1=0.44, lambda2=0.56)\n",
      "Best: 0.610 - HParams(beta=0.22, lambda1=0.44, lambda2=0.56)\n",
      "------------------------------\n",
      "The best hyper-parameter:  HParams(beta=0.22, lambda1=0.44, lambda2=0.56)\n",
      "The best rouge score    :  0.610\n",
      "   rouge-1  rouge-2  rouge-l  mean\n",
      "r    0.617    0.503    0.597 0.572\n",
      "p    0.717    0.586    0.693 0.666\n",
      "f    0.658    0.536    0.636 0.610\n"
     ]
    },
    {
     "data": {
      "text/plain": [
       "HParams(beta=0.22, lambda1=0.44, lambda2=0.56)"
      ]
     },
     "execution_count": 6,
     "metadata": {},
     "output_type": "execute_result"
    }
   ],
   "source": [
    "pacsum.tune_hparams(dataset, metrics_keys=tuning_metric)\n"
   ]
  },
  {
   "cell_type": "markdown",
   "metadata": {},
   "source": [
    "# DETR"
   ]
  },
  {
   "cell_type": "code",
   "execution_count": 7,
   "metadata": {},
   "outputs": [
    {
     "name": "stderr",
     "output_type": "stream",
     "text": [
      "Some weights of the model checkpoint at allenai/longformer-base-4096 were not used when initializing LongformerModel: ['lm_head.dense.weight', 'lm_head.decoder.weight', 'lm_head.layer_norm.bias', 'lm_head.dense.bias', 'lm_head.bias', 'lm_head.layer_norm.weight']\n",
      "- This IS expected if you are initializing LongformerModel from the checkpoint of a model trained on another task or with another architecture (e.g. initializing a BertForSequenceClassification model from a BertForPreTraining model).\n",
      "- This IS NOT expected if you are initializing LongformerModel from the checkpoint of a model that you expect to be exactly identical (initializing a BertForSequenceClassification model from a BertForSequenceClassification model).\n"
     ]
    }
   ],
   "source": [
    "detr = DETRExtractor(SimpleNamespace(\n",
    "    # Model parameters\n",
    "    hidden_dim=2048,\n",
    "    num_queries=40,\n",
    "    class_depth=1,\n",
    "    bbox_depth=3,\n",
    "    resume=None,\n",
    "    init_last_biases=True,\n",
    "    dropout=0,\n",
    "    init_weight=None,\n",
    "    pretrained=True,\n",
    "    frozen_weights=\"./checkpoint.pth\",\n",
    "    glob_attn_words=True,\n",
    "    # Other parameters\n",
    "    num_classes=7,\n",
    "    device=\"cuda\",\n",
    "))\n"
   ]
  },
  {
   "cell_type": "code",
   "execution_count": 8,
   "metadata": {},
   "outputs": [
    {
     "name": "stderr",
     "output_type": "stream",
     "text": [
      "100%|██████████| 10/10 [00:05<00:00,  1.73it/s]\n"
     ]
    },
    {
     "name": "stdout",
     "output_type": "stream",
     "text": [
      "Best: 0.424 - [ArgType.Claim]\n",
      "Best: 0.455 - [ArgType.ConcludingStatement]\n",
      "Best: 0.460 - [ArgType.Lead]\n",
      "Best: 0.478 - [ArgType.Position]\n",
      "Best: 0.564 - [ArgType.ConcludingStatement, ArgType.Lead]\n",
      "Best: 0.568 - [ArgType.ConcludingStatement, ArgType.Lead, ArgType.Position]\n",
      "------------------------------\n",
      "The best hyper-parameter:  [ArgType.ConcludingStatement, ArgType.Lead, ArgType.Position]\n",
      "The best rouge score    :  0.568\n",
      "   rouge-1  rouge-2  rouge-l  mean\n",
      "r    0.773    0.629    0.743 0.715\n",
      "p    0.540    0.400    0.520 0.486\n",
      "f    0.626    0.477    0.602 0.568\n"
     ]
    },
    {
     "data": {
      "text/plain": [
       "[ArgType.ConcludingStatement, ArgType.Lead, ArgType.Position]"
      ]
     },
     "execution_count": 8,
     "metadata": {},
     "output_type": "execute_result"
    }
   ],
   "source": [
    "detr.tune_hparams(dataset, metrics_keys=tuning_metric)"
   ]
  },
  {
   "cell_type": "markdown",
   "metadata": {},
   "source": [
    "# CASCADE"
   ]
  },
  {
   "cell_type": "code",
   "execution_count": 9,
   "metadata": {},
   "outputs": [],
   "source": [
    "class MixExtract:\n",
    "    def extract_summary(self, text: str) -> str:\n",
    "        text_sum = detr.extract_summary(text)\n",
    "        return pacsum.extract_summary(text_sum)\n",
    "\n",
    "cascade = MixExtract()"
   ]
  },
  {
   "cell_type": "markdown",
   "metadata": {},
   "source": [
    "# Test"
   ]
  },
  {
   "cell_type": "code",
   "execution_count": 14,
   "metadata": {},
   "outputs": [
    {
     "name": "stdout",
     "output_type": "stream",
     "text": [
      "the driverless cars are a bad idea. in theroy, they sound wonderful. but in reality they are a safty hazard. to start with the driver needs to stay aware of the car and traffic, they cant go through construction, and are still are not legal in some states around the u.s.the driver has to stay aware of the other things around them. even thought you still have to keep your hands on the wheel because of the touch sensors. the article states, in fact, none of the cars developed so far are completely driverless. this statment shows there is still room for human error in these driverless cars.even though human error is still involved, these cars still can't go through construction areas or around wrecks but they still alert you when you come across it.the prompt states, but all are designed when the road requires human skills, such as navigating through work zones and around acciedents. this means the human driver must remain alert and be ready to take over when the situation requires. people are still needed to drive these cars, but we still have to do the hard part the old fashion way.even with accident warning, these cars are still not legal in some states like california and nevada. for example, as a result it is illegal even to test computer  driven cars. california, nevada, florida, and the district of columbia have led the country in allowing limited use of semi autonomous cars. they don't think it's safe enough to be driven in highly populated areas.these driverless cars are a hazard. even though they could be helpful in the future. in some way they seem to undertested amd people don't want to trust them. manly because you would still have to pay attention to the road, still have to drive through construction and wrecks, and are technically still not fully legalised in some states like california, nevada and florida. with a bit more field testing these driverless cars could be one of our greatest achivements. but they won't be totally ready until 2020.\n",
      "\n",
      "the driverless cars are a bad idea.to start with the driver needs to stay aware of the car and traffic, they cant go through construction, and are still are not legal in some states around the u.s.people are still needed to drive these cars, but we still have to do the hard part the old fashion way.\n"
     ]
    }
   ],
   "source": [
    "text, info = dataset[2]\n",
    "print(text)\n",
    "print()\n",
    "print(info[\"summary\"])\n",
    "\n",
    "def test_extractor(extractor):\n",
    "    summ = extractor.extract_summary(text)\n",
    "    print(summ)\n",
    "\n",
    "    res, metrics = utils.extract_summary_iterator(extractor, dataset)\n",
    "    print(\"Mean length of summaries:\", np.mean([len(sentence_separators.split(r)) - 1 for r in res]))\n",
    "\n",
    "    print(f\"Mean Rouge f score: {tuning_metric(metrics):.3f}\")\n",
    "    return metrics"
   ]
  },
  {
   "cell_type": "code",
   "execution_count": 15,
   "metadata": {},
   "outputs": [
    {
     "name": "stdout",
     "output_type": "stream",
     "text": [
      "to start with the driver needs to stay aware of the car and traffic, they cant go through construction, and are still are not legal in some states around the u. these driverless cars are a hazard. this statment shows there is still room for human error in these driverless cars.\n"
     ]
    },
    {
     "name": "stderr",
     "output_type": "stream",
     "text": [
      "100%|██████████| 10/10 [00:00<00:00, 11.45it/s]"
     ]
    },
    {
     "name": "stdout",
     "output_type": "stream",
     "text": [
      "Mean length of summaries: 3.0\n",
      "Mean Rouge f score: 0.610\n"
     ]
    },
    {
     "name": "stderr",
     "output_type": "stream",
     "text": [
      "\n"
     ]
    },
    {
     "data": {
      "text/html": [
       "<div>\n",
       "<style scoped>\n",
       "    .dataframe tbody tr th:only-of-type {\n",
       "        vertical-align: middle;\n",
       "    }\n",
       "\n",
       "    .dataframe tbody tr th {\n",
       "        vertical-align: top;\n",
       "    }\n",
       "\n",
       "    .dataframe thead th {\n",
       "        text-align: right;\n",
       "    }\n",
       "</style>\n",
       "<table border=\"1\" class=\"dataframe\">\n",
       "  <thead>\n",
       "    <tr style=\"text-align: right;\">\n",
       "      <th></th>\n",
       "      <th>rouge-1</th>\n",
       "      <th>rouge-2</th>\n",
       "      <th>rouge-l</th>\n",
       "      <th>mean</th>\n",
       "    </tr>\n",
       "  </thead>\n",
       "  <tbody>\n",
       "    <tr>\n",
       "      <th>r</th>\n",
       "      <td>0.617</td>\n",
       "      <td>0.503</td>\n",
       "      <td>0.597</td>\n",
       "      <td>0.572</td>\n",
       "    </tr>\n",
       "    <tr>\n",
       "      <th>p</th>\n",
       "      <td>0.717</td>\n",
       "      <td>0.586</td>\n",
       "      <td>0.693</td>\n",
       "      <td>0.666</td>\n",
       "    </tr>\n",
       "    <tr>\n",
       "      <th>f</th>\n",
       "      <td>0.658</td>\n",
       "      <td>0.536</td>\n",
       "      <td>0.636</td>\n",
       "      <td>0.610</td>\n",
       "    </tr>\n",
       "  </tbody>\n",
       "</table>\n",
       "</div>"
      ],
      "text/plain": [
       "   rouge-1  rouge-2  rouge-l  mean\n",
       "r    0.617    0.503    0.597 0.572\n",
       "p    0.717    0.586    0.693 0.666\n",
       "f    0.658    0.536    0.636 0.610"
      ]
     },
     "execution_count": 15,
     "metadata": {},
     "output_type": "execute_result"
    }
   ],
   "source": [
    "test_extractor(pacsum)"
   ]
  },
  {
   "cell_type": "code",
   "execution_count": 16,
   "metadata": {},
   "outputs": [
    {
     "name": "stdout",
     "output_type": "stream",
     "text": [
      "the driverless cars are a bad idea. in theroy, they sound wonderful. but in reality they are a safty hazard. to start with the driver needs to stay aware of the car and traffic, they cant go through construction, and are still are not legal in some states around the u.s.the way they seem to undertested amd people don't want to trust them. manly because you would still have to pay attention to the road, still have to drive through construction and wrecks, and are technically still not fully legalised in some states like california, nevada and florida. with a bit more field testing these driverless cars could be one of our\n"
     ]
    },
    {
     "name": "stderr",
     "output_type": "stream",
     "text": [
      "100%|██████████| 10/10 [00:04<00:00,  2.46it/s]"
     ]
    },
    {
     "name": "stdout",
     "output_type": "stream",
     "text": [
      "Mean length of summaries: 5.9\n",
      "Mean Rouge f score: 0.568\n"
     ]
    },
    {
     "name": "stderr",
     "output_type": "stream",
     "text": [
      "\n"
     ]
    },
    {
     "data": {
      "text/html": [
       "<div>\n",
       "<style scoped>\n",
       "    .dataframe tbody tr th:only-of-type {\n",
       "        vertical-align: middle;\n",
       "    }\n",
       "\n",
       "    .dataframe tbody tr th {\n",
       "        vertical-align: top;\n",
       "    }\n",
       "\n",
       "    .dataframe thead th {\n",
       "        text-align: right;\n",
       "    }\n",
       "</style>\n",
       "<table border=\"1\" class=\"dataframe\">\n",
       "  <thead>\n",
       "    <tr style=\"text-align: right;\">\n",
       "      <th></th>\n",
       "      <th>rouge-1</th>\n",
       "      <th>rouge-2</th>\n",
       "      <th>rouge-l</th>\n",
       "      <th>mean</th>\n",
       "    </tr>\n",
       "  </thead>\n",
       "  <tbody>\n",
       "    <tr>\n",
       "      <th>r</th>\n",
       "      <td>0.773</td>\n",
       "      <td>0.629</td>\n",
       "      <td>0.743</td>\n",
       "      <td>0.715</td>\n",
       "    </tr>\n",
       "    <tr>\n",
       "      <th>p</th>\n",
       "      <td>0.540</td>\n",
       "      <td>0.400</td>\n",
       "      <td>0.520</td>\n",
       "      <td>0.486</td>\n",
       "    </tr>\n",
       "    <tr>\n",
       "      <th>f</th>\n",
       "      <td>0.626</td>\n",
       "      <td>0.477</td>\n",
       "      <td>0.602</td>\n",
       "      <td>0.568</td>\n",
       "    </tr>\n",
       "  </tbody>\n",
       "</table>\n",
       "</div>"
      ],
      "text/plain": [
       "   rouge-1  rouge-2  rouge-l  mean\n",
       "r    0.773    0.629    0.743 0.715\n",
       "p    0.540    0.400    0.520 0.486\n",
       "f    0.626    0.477    0.602 0.568"
      ]
     },
     "execution_count": 16,
     "metadata": {},
     "output_type": "execute_result"
    }
   ],
   "source": [
    "test_extractor(detr)"
   ]
  },
  {
   "cell_type": "code",
   "execution_count": 17,
   "metadata": {},
   "outputs": [
    {
     "name": "stdout",
     "output_type": "stream",
     "text": [
      "to start with the driver needs to stay aware of the car and traffic, they cant go through construction, and are still are not legal in some states around the u. the driverless cars are a bad idea. manly because you would still have to pay attention to the road, still have to drive through construction and wrecks, and are technically still not fully legalised in some states like california, nevada and florida.\n"
     ]
    },
    {
     "name": "stderr",
     "output_type": "stream",
     "text": [
      "100%|██████████| 10/10 [00:04<00:00,  2.30it/s]"
     ]
    },
    {
     "name": "stdout",
     "output_type": "stream",
     "text": [
      "Mean length of summaries: 2.9\n",
      "Mean Rouge f score: 0.569\n"
     ]
    },
    {
     "name": "stderr",
     "output_type": "stream",
     "text": [
      "\n"
     ]
    },
    {
     "data": {
      "text/html": [
       "<div>\n",
       "<style scoped>\n",
       "    .dataframe tbody tr th:only-of-type {\n",
       "        vertical-align: middle;\n",
       "    }\n",
       "\n",
       "    .dataframe tbody tr th {\n",
       "        vertical-align: top;\n",
       "    }\n",
       "\n",
       "    .dataframe thead th {\n",
       "        text-align: right;\n",
       "    }\n",
       "</style>\n",
       "<table border=\"1\" class=\"dataframe\">\n",
       "  <thead>\n",
       "    <tr style=\"text-align: right;\">\n",
       "      <th></th>\n",
       "      <th>rouge-1</th>\n",
       "      <th>rouge-2</th>\n",
       "      <th>rouge-l</th>\n",
       "      <th>mean</th>\n",
       "    </tr>\n",
       "  </thead>\n",
       "  <tbody>\n",
       "    <tr>\n",
       "      <th>r</th>\n",
       "      <td>0.593</td>\n",
       "      <td>0.453</td>\n",
       "      <td>0.563</td>\n",
       "      <td>0.536</td>\n",
       "    </tr>\n",
       "    <tr>\n",
       "      <th>p</th>\n",
       "      <td>0.678</td>\n",
       "      <td>0.529</td>\n",
       "      <td>0.647</td>\n",
       "      <td>0.618</td>\n",
       "    </tr>\n",
       "    <tr>\n",
       "      <th>f</th>\n",
       "      <td>0.627</td>\n",
       "      <td>0.483</td>\n",
       "      <td>0.597</td>\n",
       "      <td>0.569</td>\n",
       "    </tr>\n",
       "  </tbody>\n",
       "</table>\n",
       "</div>"
      ],
      "text/plain": [
       "   rouge-1  rouge-2  rouge-l  mean\n",
       "r    0.593    0.453    0.563 0.536\n",
       "p    0.678    0.529    0.647 0.618\n",
       "f    0.627    0.483    0.597 0.569"
      ]
     },
     "execution_count": 17,
     "metadata": {},
     "output_type": "execute_result"
    }
   ],
   "source": [
    "test_extractor(cascade)"
   ]
  },
  {
   "cell_type": "code",
   "execution_count": 20,
   "metadata": {},
   "outputs": [
    {
     "data": {
      "text/plain": [
       "'to start with the driver needs to stay aware of the car and traffic, they cant go through construction, and are still are not legal in some states around the u. the driverless cars are a bad idea. with a bit more field testing these driverless cars could be one of our greatest achivements.'"
      ]
     },
     "execution_count": 20,
     "metadata": {},
     "output_type": "execute_result"
    }
   ],
   "source": [
    "pacsum.extract_summary(\n",
    "    \"the driverless cars are a bad idea. in theroy, they sound wonderful. but in reality they are a safty hazard. \"\n",
    "    \"to start with the driver needs to stay aware of the car and traffic, they cant go through construction, and \"\n",
    "    \"are still are not legal in some states around the u.s.the way they seem to undertested amd people don't want \"\n",
    "    \"to trust them. manly because you would still have to pay attention to the road, still have to drive through \"\n",
    "    \"construction and wrecks, and are technically still not fully legalised in some states like california, nevada \"\n",
    "    \"and florida. with a bit more field testing these driverless cars could be one of our greatest achivements.\"\n",
    ")\n"
   ]
  },
  {
   "cell_type": "code",
   "execution_count": null,
   "metadata": {},
   "outputs": [],
   "source": []
  }
 ],
 "metadata": {
  "celltoolbar": "Format de la Cellule Texte Brut",
  "kernelspec": {
   "display_name": "Python 3.8.13 ('torch-gpu')",
   "language": "python",
   "name": "python3"
  },
  "language_info": {
   "codemirror_mode": {
    "name": "ipython",
    "version": 3
   },
   "file_extension": ".py",
   "mimetype": "text/x-python",
   "name": "python",
   "nbconvert_exporter": "python",
   "pygments_lexer": "ipython3",
   "version": "3.8.13"
  },
  "vscode": {
   "interpreter": {
    "hash": "c004a322e9c82f28ba2e77aacdbb1b6ccb0b2b4ae6a31db23bc8a8c53511ac4a"
   }
  }
 },
 "nbformat": 4,
 "nbformat_minor": 4
}
